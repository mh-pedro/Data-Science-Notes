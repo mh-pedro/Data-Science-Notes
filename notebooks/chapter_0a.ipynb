{
 "cells": [
  {
   "cell_type": "markdown",
   "metadata": {},
   "source": [
    "# Chapter 1: Descriptive Statistic and Inferential statistic"
   ]
  },
  {
   "cell_type": "markdown",
   "metadata": {},
   "source": [
    "Both are the main ares of statistics and we can define them as:\n",
    "\n",
    "- Descriptive statistic provides tools to summarize and describe a sample, providing a clear picture of the data at hand.\n",
    "- Inferencial statistic allow us to make broader conclusions and predictions about an entire population based on the insights drawn from the sample.\n",
    "\n",
    "The goal in statistics is to make a statement about the population, however, in most cases it is not possible to get all data of the population, so a representative sample is taken. This sample is then analyzed using descriptive statistic, which helps summarize key characteristics, such as the mean and the variability within the sample. However, describing the sample may not be sufficient to make a statement about the population as a whole. In these cases, inferential statistic is used to make predictions about the population based on the sample.\n",
    "\n"
   ]
  },
  {
   "cell_type": "markdown",
   "metadata": {},
   "source": [
    "## Descriptive Statistic"
   ]
  },
  {
   "cell_type": "markdown",
   "metadata": {},
   "source": [
    "With the data, we can do graph the data, calculate the various descriptive statistic to understand our data, we can summarized this descriptive statistic as two subgroups as follows:\n",
    "\n",
    "- Location parameter:\n",
    "    - **Mean:** The average value of the sample;\n",
    "    - **Median:** The middle value of the sample;\n",
    "    - **Mode:** The most common value in the sample;\n",
    "    - **Sum:** The sum of all values in the sample;\n",
    "- Dispersion parameter:\n",
    "    - **Range:** The difference between the maximum and minimum values in the sample;\n",
    "    - **Variance:** The average of the squared differences between each value in the sample and the mean;\n",
    "    - **Standard deviation:** The square root of the variance;\n",
    "    - **Coefficient of variation:** The standard deviation divided by the mean.\n",
    "\n"
   ]
  },
  {
   "cell_type": "code",
   "execution_count": 1,
   "metadata": {},
   "outputs": [],
   "source": [
    "# Configuração para o notebook e plotagem de imagens\n",
    "from IPython.display import Latex\n",
    "import matplotlib.pyplot as plt\n",
    "import seaborn as sns\n",
    "%matplotlib inline\n",
    "def jupyter_settings():\n",
    "    plt.style.use('bmh')\n",
    "    plt.rcParams['figure.figsize'] = [25, 12]\n",
    "    plt.rcParams['font.size'] = 24\n",
    "   # display(HTML('<style>.container { width:100% !important; }</style>'))\n",
    "    sns.set()\n",
    "\n",
    "jupyter_settings()\n"
   ]
  },
  {
   "cell_type": "markdown",
   "metadata": {},
   "source": [
    "## Probability sampling\n",
    "\n",
    "This is a simple form to sample from a population."
   ]
  },
  {
   "cell_type": "code",
   "execution_count": 1,
   "metadata": {},
   "outputs": [
    {
     "name": "stdout",
     "output_type": "stream",
     "text": [
      "[1 8 5]\n"
     ]
    }
   ],
   "source": [
    "import numpy as np\n",
    "\n",
    "# setup generator for reproducibility\n",
    "random_generator = np.random.default_rng(2020)\n",
    "\n",
    "population = np.arange(1, 10 + 1)\n",
    "sample = random_generator.choice(\n",
    "    population,     # sample from population\n",
    "    size=3,         # number of samples to take\n",
    "    replace=False   # only allow to sample individuals once\n",
    ")\n",
    "\n",
    "print(sample)\n",
    "# array([1, 8, 5])"
   ]
  },
  {
   "cell_type": "markdown",
   "metadata": {},
   "source": [
    "Four types of the probability sampling can be used:\n",
    "\n",
    " - **Simple random sampling:** Every member of the subset has an equal chance of being selected. We can use this method when all members of the population have similar properties. The exemple the we doing before is a simple random sampling.\n",
    "\n",
    " - **Systematic sampling:** The members of a population are selected at a random point with a fixed sampling interval. For exemple, in a classe with 50 students but only 10 books to give to these students. The sampling interval is fixed by dividing the number of students by the number of books, in this case, we have 50/10 = 5. For exemple, take the number 18, the other students selected to get the books will be as follows: 18, 23, 28, 33, 38, 43, 48, 3, 8, 13. The problem with systematic sampling is associated with the ordem. If we want the best students in math correspond to the sequencial order initially? This can introduced a bias in your sample.\n",
    "\n",
    " - **Stratified sampling:** In this method,  we divide the population into homogeneous subpopulations called **strata**. Each stratum splits have distinctly properties, lie as gender, age, color and etc. The members in each stratum has an equal chance of being selected."
   ]
  },
  {
   "cell_type": "code",
   "execution_count": 2,
   "metadata": {},
   "outputs": [
    {
     "name": "stdout",
     "output_type": "stream",
     "text": [
      "{'number': array([2, 8, 5, 1]), 'string': array(['D', 'C'], dtype='<U1')}\n"
     ]
    }
   ],
   "source": [
    "# Stratified Sampling exemple\n",
    "\n",
    "population_Strata = [ 1, \"A\", 3, 4, 5, 2, \"D\", 8, \"C\", 7, 6, \"B\"]\n",
    "\n",
    "# group strata\n",
    "\n",
    "strata = {'number': [],\n",
    "          'string': []}\n",
    "\n",
    "for item in population_Strata:\n",
    "    if isinstance(item, int):\n",
    "        strata['number'].append(item)\n",
    "    else:\n",
    "        strata['string'].append(item)\n",
    "\n",
    "# fraction of population to sample\n",
    "sample_fraction = 0.5\n",
    "\n",
    "# random sample from strata\n",
    "sample_strata = {}\n",
    "\n",
    "for group in strata:\n",
    "    sample_size = int(sample_fraction * len(strata[group]))\n",
    "\n",
    "    sample_strata[group] = random_generator.choice(\n",
    "        strata[group],\n",
    "        size=sample_size,\n",
    "        replace=False\n",
    "    )\n",
    "\n",
    "print(sample_strata)"
   ]
  },
  {
   "cell_type": "code",
   "execution_count": null,
   "metadata": {},
   "outputs": [],
   "source": []
  }
 ],
 "metadata": {
  "kernelspec": {
   "display_name": "projetos_github",
   "language": "python",
   "name": "python3"
  },
  "language_info": {
   "codemirror_mode": {
    "name": "ipython",
    "version": 3
   },
   "file_extension": ".py",
   "mimetype": "text/x-python",
   "name": "python",
   "nbconvert_exporter": "python",
   "pygments_lexer": "ipython3",
   "version": "3.13.1"
  }
 },
 "nbformat": 4,
 "nbformat_minor": 2
}
